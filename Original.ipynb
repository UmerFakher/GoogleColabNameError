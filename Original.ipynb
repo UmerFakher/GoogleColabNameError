{
  "nbformat": 4,
  "nbformat_minor": 0,
  "metadata": {
    "colab": {
      "name": "Original.ipynb",
      "provenance": [],
      "authorship_tag": "ABX9TyOy4UMq4jukt9RcWB5RcTm6",
      "include_colab_link": true
    },
    "kernelspec": {
      "name": "python3",
      "display_name": "Python 3"
    },
    "language_info": {
      "name": "python"
    }
  },
  "cells": [
    {
      "cell_type": "markdown",
      "metadata": {
        "id": "view-in-github",
        "colab_type": "text"
      },
      "source": [
        "<a href=\"https://colab.research.google.com/github/UmerFakher/GoogleColabNameError/blob/main/Original.ipynb\" target=\"_parent\"><img src=\"https://colab.research.google.com/assets/colab-badge.svg\" alt=\"Open In Colab\"/></a>"
      ]
    },
    {
      "cell_type": "code",
      "metadata": {
        "colab": {
          "base_uri": "https://localhost:8080/"
        },
        "id": "5KjPYPLElUsE",
        "outputId": "7073bda7-b5f4-40cc-9bae-bcc21f1b0498"
      },
      "source": [
        "print(\"This is written in the original notebook. Original.ipynb\")"
      ],
      "execution_count": null,
      "outputs": [
        {
          "output_type": "stream",
          "text": [
            "This is written in the original notebook. Original.ipynb\n"
          ],
          "name": "stdout"
        }
      ]
    },
    {
      "cell_type": "code",
      "metadata": {
        "colab": {
          "base_uri": "https://localhost:8080/"
        },
        "id": "FISkIhLkliYQ",
        "outputId": "c7e16706-0192-46c2-972b-b46bde978e5f"
      },
      "source": [
        "from requests import get\n",
        "filename = get('http://172.28.0.2:9000/api/sessions').json()[0]['name']\n",
        "print(filename)"
      ],
      "execution_count": null,
      "outputs": [
        {
          "output_type": "stream",
          "text": [
            "Original.ipynb\n"
          ],
          "name": "stdout"
        }
      ]
    },
    {
      "cell_type": "markdown",
      "metadata": {
        "id": "ytvTdoHvurmD"
      },
      "source": [
        "# ORIGINAL NOTEBOOK original.ipynb"
      ]
    }
  ]
}