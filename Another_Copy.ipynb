{
  "nbformat": 4,
  "nbformat_minor": 0,
  "metadata": {
    "colab": {
      "name": "Original.ipynb",
      "provenance": [],
      "authorship_tag": "ABX9TyNmlPK/SLs2ETtuOlDhsEgM",
      "include_colab_link": true
    },
    "kernelspec": {
      "name": "python3",
      "display_name": "Python 3"
    },
    "language_info": {
      "name": "python"
    }
  },
  "cells": [
    {
      "cell_type": "markdown",
      "metadata": {
        "id": "view-in-github",
        "colab_type": "text"
      },
      "source": [
        "<a href=\"https://colab.research.google.com/github/UmerFakher/GoogleColabNameError/blob/main/Another_Copy.ipynb\" target=\"_parent\"><img src=\"https://colab.research.google.com/assets/colab-badge.svg\" alt=\"Open In Colab\"/></a>"
      ]
    },
    {
      "cell_type": "code",
      "metadata": {
        "colab": {
          "base_uri": "https://localhost:8080/"
        },
        "id": "5KjPYPLElUsE",
        "outputId": "954ba1ea-889c-4408-d794-afe337480412"
      },
      "source": [
        "print(\"This is written in the original notebook. Original.ipynb\")"
      ],
      "execution_count": null,
      "outputs": [
        {
          "output_type": "stream",
          "text": [
            "This is written in the original notebook. Original.ipynb\n"
          ],
          "name": "stdout"
        }
      ]
    },
    {
      "cell_type": "code",
      "metadata": {
        "colab": {
          "base_uri": "https://localhost:8080/"
        },
        "id": "FISkIhLkliYQ",
        "outputId": "91754c74-be26-41ad-e90c-d30c7c0b7591"
      },
      "source": [
        "from requests import get\n",
        "filename = get('http://172.28.0.2:9000/api/sessions').json()[0]['name']\n",
        "# print(filename) # Original.ipynb "
      ],
      "execution_count": null,
      "outputs": [
        {
          "output_type": "stream",
          "text": [
            "Original.ipynb\n"
          ],
          "name": "stdout"
        }
      ]
    },
    {
      "cell_type": "code",
      "metadata": {
        "id": "UH0-J3SQl4LO",
        "colab": {
          "base_uri": "https://localhost:8080/"
        },
        "outputId": "139b3693-f0bf-4d2b-df74-113f65348560"
      },
      "source": [
        "print(\"Editing notebook, then by making a copy of Original.ipynb and we can call it Different_Copy.ipynb\")"
      ],
      "execution_count": null,
      "outputs": [
        {
          "output_type": "stream",
          "text": [
            "Editing notebook, then by making a copy of Original.ipynb and we can call it Different_Copy.ipynb\n"
          ],
          "name": "stdout"
        }
      ]
    },
    {
      "cell_type": "markdown",
      "metadata": {
        "id": "rhjye7E0l_5I"
      },
      "source": [
        "File > Save a copy to GitHub"
      ]
    },
    {
      "cell_type": "code",
      "metadata": {
        "id": "8gjaPQ6LmYk7"
      },
      "source": [
        "print(filename) "
      ],
      "execution_count": null,
      "outputs": []
    }
  ]
}